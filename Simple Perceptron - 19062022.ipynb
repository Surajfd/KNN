{
 "cells": [
  {
   "cell_type": "code",
   "execution_count": 1,
   "id": "4ea74f89",
   "metadata": {},
   "outputs": [],
   "source": [
    "import numpy as np\n",
    "\n",
    "x1 = [10, 8, 15]# Ads\n",
    "x2 = [8, 20, 25]# Stores\n",
    "y = [30, 15, 20]# Sales\n",
    "\n",
    "n = len(y)"
   ]
  },
  {
   "cell_type": "code",
   "execution_count": 27,
   "id": "14749c97",
   "metadata": {},
   "outputs": [],
   "source": [
    "def forward_pass(w1, w2, b):\n",
    "    y_pred = list()\n",
    "    total_error = 0\n",
    "    for i in range(n):\n",
    "        y_hat = w1* x1[i] + w2* x2[i] + b\n",
    "        y_pred.append(y_hat)\n",
    "\n",
    "        E = (y[i] - y_hat)**2\n",
    "        total_error+=E\n",
    "    return y_pred, total_error"
   ]
  },
  {
   "cell_type": "code",
   "execution_count": 32,
   "id": "3f6cad00",
   "metadata": {},
   "outputs": [],
   "source": [
    "def weight_update(w1, w2, b, y_pred):\n",
    "    for i in range(n):\n",
    "        de_dw1 = -2 * x1[i] * (y[i]-y_pred[i])\n",
    "        de_dw2 = -2 * x2[i] * (y[i]-y_pred[i])\n",
    "        de_db = -2 * (y[i]-y_pred[i])\n",
    "\n",
    "        w1 -= alpha * de_dw1\n",
    "        w2 -= alpha * de_dw2\n",
    "        b -= alpha * de_db\n",
    "    return w1, w2, b"
   ]
  },
  {
   "cell_type": "code",
   "execution_count": 42,
   "id": "76ebdca6",
   "metadata": {},
   "outputs": [
    {
     "data": {
      "text/plain": [
       "(0.10688245618646176, 0.003454138983934663, -1.3595269970315584, 0.0005)"
      ]
     },
     "execution_count": 42,
     "metadata": {},
     "output_type": "execute_result"
    }
   ],
   "source": [
    "random_init = np.random.randn(3)\n",
    "w1 = random_init[0]\n",
    "w2 = random_init[1]\n",
    "b = random_init[2]\n",
    "\n",
    "alpha = 0.0005\n",
    "epochs = 100\n",
    "\n",
    "w1, w2, b, alpha\n"
   ]
  },
  {
   "cell_type": "code",
   "execution_count": 43,
   "id": "7bfc25ba",
   "metadata": {
    "scrolled": true
   },
   "outputs": [
    {
     "name": "stdout",
     "output_type": "stream",
     "text": [
      "Epoch#:0 | Error = 1541.01\n",
      "Epoch#:1 | Error = 639.56\n",
      "Epoch#:2 | Error = 443.12\n",
      "Epoch#:3 | Error = 389.9\n",
      "Epoch#:4 | Error = 366.44\n",
      "Epoch#:5 | Error = 349.76\n",
      "Epoch#:6 | Error = 335.2\n",
      "Epoch#:7 | Error = 321.75\n",
      "Epoch#:8 | Error = 309.18\n",
      "Epoch#:9 | Error = 297.4\n",
      "Epoch#:10 | Error = 286.34\n",
      "Epoch#:11 | Error = 275.97\n",
      "Epoch#:12 | Error = 266.24\n",
      "Epoch#:13 | Error = 257.1\n",
      "Epoch#:14 | Error = 248.54\n",
      "Epoch#:15 | Error = 240.5\n",
      "Epoch#:16 | Error = 232.95\n",
      "Epoch#:17 | Error = 225.87\n",
      "Epoch#:18 | Error = 219.23\n",
      "Epoch#:19 | Error = 212.99\n",
      "Epoch#:20 | Error = 207.14\n",
      "Epoch#:21 | Error = 201.65\n",
      "Epoch#:22 | Error = 196.5\n",
      "Epoch#:23 | Error = 191.66\n",
      "Epoch#:24 | Error = 187.12\n",
      "Epoch#:25 | Error = 182.86\n",
      "Epoch#:26 | Error = 178.86\n",
      "Epoch#:27 | Error = 175.1\n",
      "Epoch#:28 | Error = 171.58\n",
      "Epoch#:29 | Error = 168.27\n",
      "Epoch#:30 | Error = 165.16\n",
      "Epoch#:31 | Error = 162.25\n",
      "Epoch#:32 | Error = 159.51\n",
      "Epoch#:33 | Error = 156.94\n",
      "Epoch#:34 | Error = 154.52\n",
      "Epoch#:35 | Error = 152.25\n",
      "Epoch#:36 | Error = 150.12\n",
      "Epoch#:37 | Error = 148.12\n",
      "Epoch#:38 | Error = 146.24\n",
      "Epoch#:39 | Error = 144.47\n",
      "Epoch#:40 | Error = 142.81\n",
      "Epoch#:41 | Error = 141.25\n",
      "Epoch#:42 | Error = 139.79\n",
      "Epoch#:43 | Error = 138.41\n",
      "Epoch#:44 | Error = 137.11\n",
      "Epoch#:45 | Error = 135.9\n",
      "Epoch#:46 | Error = 134.75\n",
      "Epoch#:47 | Error = 133.68\n",
      "Epoch#:48 | Error = 132.66\n",
      "Epoch#:49 | Error = 131.71\n",
      "Epoch#:50 | Error = 130.81\n",
      "Epoch#:51 | Error = 129.97\n",
      "Epoch#:52 | Error = 129.17\n",
      "Epoch#:53 | Error = 128.43\n",
      "Epoch#:54 | Error = 127.72\n",
      "Epoch#:55 | Error = 127.06\n",
      "Epoch#:56 | Error = 126.43\n",
      "Epoch#:57 | Error = 125.84\n",
      "Epoch#:58 | Error = 125.29\n",
      "Epoch#:59 | Error = 124.76\n",
      "Epoch#:60 | Error = 124.27\n",
      "Epoch#:61 | Error = 123.8\n",
      "Epoch#:62 | Error = 123.36\n",
      "Epoch#:63 | Error = 122.95\n",
      "Epoch#:64 | Error = 122.56\n",
      "Epoch#:65 | Error = 122.18\n",
      "Epoch#:66 | Error = 121.83\n",
      "Epoch#:67 | Error = 121.5\n",
      "Epoch#:68 | Error = 121.19\n",
      "Epoch#:69 | Error = 120.89\n",
      "Epoch#:70 | Error = 120.61\n",
      "Epoch#:71 | Error = 120.34\n",
      "Epoch#:72 | Error = 120.09\n",
      "Epoch#:73 | Error = 119.85\n",
      "Epoch#:74 | Error = 119.62\n",
      "Epoch#:75 | Error = 119.4\n",
      "Epoch#:76 | Error = 119.19\n",
      "Epoch#:77 | Error = 119.0\n",
      "Epoch#:78 | Error = 118.81\n",
      "Epoch#:79 | Error = 118.63\n",
      "Epoch#:80 | Error = 118.46\n",
      "Epoch#:81 | Error = 118.3\n",
      "Epoch#:82 | Error = 118.15\n",
      "Epoch#:83 | Error = 118.0\n",
      "Epoch#:84 | Error = 117.86\n",
      "Epoch#:85 | Error = 117.72\n",
      "Epoch#:86 | Error = 117.59\n",
      "Epoch#:87 | Error = 117.47\n",
      "Epoch#:88 | Error = 117.35\n",
      "Epoch#:89 | Error = 117.23\n",
      "Epoch#:90 | Error = 117.12\n",
      "Epoch#:91 | Error = 117.01\n",
      "Epoch#:92 | Error = 116.91\n",
      "Epoch#:93 | Error = 116.81\n",
      "Epoch#:94 | Error = 116.72\n",
      "Epoch#:95 | Error = 116.62\n",
      "Epoch#:96 | Error = 116.53\n",
      "Epoch#:97 | Error = 116.45\n",
      "Epoch#:98 | Error = 116.36\n",
      "Epoch#:99 | Error = 116.28\n"
     ]
    }
   ],
   "source": [
    "error = list()\n",
    "for epoch in range(epochs):\n",
    "    y_pred, total_error = forward_pass(w1, w2, b)\n",
    "    print(f\"Epoch#:{epoch} | Error = {round(total_error, 2)}\")\n",
    "    error.append(total_error)\n",
    "    w1, w2, b = weight_update(w1, w2, b, y_pred)"
   ]
  },
  {
   "cell_type": "code",
   "execution_count": 44,
   "id": "1569e35d",
   "metadata": {},
   "outputs": [],
   "source": [
    "import matplotlib.pyplot as plt"
   ]
  },
  {
   "cell_type": "code",
   "execution_count": 45,
   "id": "5cea1446",
   "metadata": {},
   "outputs": [
    {
     "data": {
      "image/png": "[encoded data removed]",
      "text/plain": [
       "<Figure size 640x480 with 1 Axes>"
      ]
     },
     "metadata": {},
     "output_type": "display_data"
    }
   ],
   "source": [
    "plt.plot(error)\n",
    "plt.grid()\n",
    "plt.xlabel(\"Epoch\")\n",
    "plt.ylabel(\"Error\")\n",
    "plt.show()"
   ]
  },
  {
   "cell_type": "code",
   "execution_count": 46,
   "id": "ca351202",
   "metadata": {},
   "outputs": [
    {
     "data": {
      "text/plain": [
       "(3.1275684527397964, -0.7771044071157794, -0.6623790499062316)"
      ]
     },
     "execution_count": 46,
     "metadata": {},
     "output_type": "execute_result"
    }
   ],
   "source": [
    "w1, w2, b"
   ]
  },
  {
   "cell_type": "markdown",
   "id": "02a8eaac",
   "metadata": {},
   "source": [
    "### Implementing using Numpy"
   ]
  },
  {
   "cell_type": "code",
   "execution_count": 47,
   "id": "097e8067",
   "metadata": {},
   "outputs": [],
   "source": [
    "import numpy as np"
   ]
  },
  {
   "cell_type": "code",
   "execution_count": 53,
   "id": "2dfbc2ec",
   "metadata": {},
   "outputs": [],
   "source": [
    "x1 = [10, 8, 15]# Ads\n",
    "x2 = [8, 20, 25]# Stores\n",
    "x  = np.array([x1, x2])\n",
    "x = x.T\n",
    "y = np.array([30, 15, 20])# Sales"
   ]
  },
  {
   "cell_type": "code",
   "execution_count": 54,
   "id": "759ad9a7",
   "metadata": {},
   "outputs": [
    {
     "data": {
      "text/plain": [
       "array([[10,  8],\n",
       "       [ 8, 20],\n",
       "       [15, 25]])"
      ]
     },
     "execution_count": 54,
     "metadata": {},
     "output_type": "execute_result"
    }
   ],
   "source": [
    "x"
   ]
  },
  {
   "cell_type": "code",
   "execution_count": 55,
   "id": "d2e47fa1",
   "metadata": {},
   "outputs": [
    {
     "data": {
      "text/plain": [
       "array([30, 15, 20])"
      ]
     },
     "execution_count": 55,
     "metadata": {},
     "output_type": "execute_result"
    }
   ],
   "source": [
    "y"
   ]
  },
  {
   "cell_type": "code",
   "execution_count": 61,
   "id": "ec1acf25",
   "metadata": {},
   "outputs": [],
   "source": [
    "random_init = np.random.randn(3)\n",
    "weights = random_init[:2].reshape(-1,1)\n",
    "bias = random_init[2]"
   ]
  },
  {
   "cell_type": "code",
   "execution_count": 65,
   "id": "a69b3b31",
   "metadata": {},
   "outputs": [
    {
     "data": {
      "text/plain": [
       "array([[-0.44373666],\n",
       "       [ 0.36698337]])"
      ]
     },
     "execution_count": 65,
     "metadata": {},
     "output_type": "execute_result"
    }
   ],
   "source": [
    "weights"
   ]
  },
  {
   "cell_type": "code",
   "execution_count": 66,
   "id": "fb9e5769",
   "metadata": {},
   "outputs": [
    {
     "data": {
      "text/plain": [
       "-0.31647855156987587"
      ]
     },
     "execution_count": 66,
     "metadata": {},
     "output_type": "execute_result"
    }
   ],
   "source": [
    "bias"
   ]
  },
  {
   "cell_type": "markdown",
   "id": "3230d30e",
   "metadata": {},
   "source": [
    "### Forward Pass"
   ]
  },
  {
   "cell_type": "code",
   "execution_count": 71,
   "id": "1134fce1",
   "metadata": {},
   "outputs": [],
   "source": [
    "y_pred = np.matmul(x, weights) + bias"
   ]
  },
  {
   "cell_type": "code",
   "execution_count": 72,
   "id": "d163362e",
   "metadata": {},
   "outputs": [
    {
     "data": {
      "text/plain": [
       "4134.1951223739525"
      ]
     },
     "execution_count": 72,
     "metadata": {},
     "output_type": "execute_result"
    }
   ],
   "source": [
    "((y_pred - y)**2).sum()"
   ]
  }
 ],
 "metadata": {
  "kernelspec": {
   "display_name": "Python 3",
   "language": "python",
   "name": "python3"
  },
  "language_info": {
   "codemirror_mode": {
    "name": "ipython",
    "version": 3
   },
   "file_extension": ".py",
   "mimetype": "text/x-python",
   "name": "python",
   "nbconvert_exporter": "python",
   "pygments_lexer": "ipython3",
   "version": "3.8.5"
  }
 },
 "nbformat": 4,
 "nbformat_minor": 5
}

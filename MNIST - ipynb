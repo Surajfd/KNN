{
 "cells": [
  {
   "cell_type": "code",
   "execution_count": 42,
   "id": "18e167d5",
   "metadata": {},
   "outputs": [],
   "source": [
    "from tensorflow.keras.datasets import mnist\n",
    "# from sklearn.preprocessing import OneHotEncoder\n",
    "from tensorflow.keras.utils import to_categorical\n",
    "from tensorflow.keras.models import Sequential\n",
    "from tensorflow.keras.layers import Input, Dense\n",
    "from tensorflow.keras.optimizers import SGD\n",
    "import matplotlib.pyplot as plt\n",
    "import numpy as np"
   ]
  },
  {
   "cell_type": "code",
   "execution_count": 43,
   "id": "e1da2ab9",
   "metadata": {},
   "outputs": [],
   "source": [
    "(x_train, y_train), (x_test, y_test) = mnist.load_data()"
   ]
  },
  {
   "cell_type": "code",
   "execution_count": 44,
   "id": "e2b2dcc1",
   "metadata": {},
   "outputs": [
    {
     "name": "stdout",
     "output_type": "stream",
     "text": [
      "(60000, 28, 28)\n",
      "(60000,)\n",
      "(10000, 28, 28)\n",
      "(10000,)\n"
     ]
    }
   ],
   "source": [
    "print(x_train.shape) # images\n",
    "print(y_train.shape) # labels\n",
    "\n",
    "print(x_test.shape) # images\n",
    "print(y_test.shape) # labels"
   ]
  },
  {
   "cell_type": "code",
   "execution_count": 25,
   "id": "8e68a5ba",
   "metadata": {
    "scrolled": true
   },
   "outputs": [
    {
     "data": {
      "image/png": "[encoded data removed]",
      "text/plain": [
       "<Figure size 640x480 with 1 Axes>"
      ]
     },
     "metadata": {},
     "output_type": "display_data"
    }
   ],
   "source": [
    "plt.imshow(x_train[100], cmap='gray')\n",
    "plt.show()"
   ]
  },
  {
   "cell_type": "code",
   "execution_count": 26,
   "id": "29637dce",
   "metadata": {},
   "outputs": [
    {
     "data": {
      "text/plain": [
       "5"
      ]
     },
     "execution_count": 26,
     "metadata": {},
     "output_type": "execute_result"
    }
   ],
   "source": [
    "y_train[100]"
   ]
  },
  {
   "cell_type": "code",
   "execution_count": 32,
   "id": "58a04254",
   "metadata": {},
   "outputs": [
    {
     "data": {
      "text/plain": [
       "array([5, 0, 4, ..., 5, 6, 8], dtype=uint8)"
      ]
     },
     "execution_count": 32,
     "metadata": {},
     "output_type": "execute_result"
    }
   ],
   "source": [
    "y_train"
   ]
  },
  {
   "cell_type": "code",
   "execution_count": 45,
   "id": "ec5b8b42",
   "metadata": {},
   "outputs": [],
   "source": [
    "x_train = x_train.reshape(60000, 28*28) # Flattening the image\n",
    "y_train_ohe = to_categorical(y_train)\n",
    "\n",
    "x_test = x_test.reshape(10000, 28*28)\n",
    "y_test_ohe = to_categorical(y_test)"
   ]
  },
  {
   "cell_type": "code",
   "execution_count": 46,
   "id": "7b189efc",
   "metadata": {},
   "outputs": [
    {
     "name": "stdout",
     "output_type": "stream",
     "text": [
      "(60000, 784)\n",
      "(60000, 10)\n",
      "(10000, 784)\n",
      "(10000, 10)\n"
     ]
    }
   ],
   "source": [
    "print(x_train.shape) # images\n",
    "print(y_train_ohe.shape) # labels\n",
    "\n",
    "print(x_test.shape) # images\n",
    "print(y_test_ohe.shape) # labels"
   ]
  },
  {
   "cell_type": "markdown",
   "id": "f971ce74",
   "metadata": {},
   "source": [
    "### Model Building\n",
    "\n",
    "- Model Definition - Architecture (#Layers, #Nodes, Activation Functions etc)\n",
    "- Model Compilation - Accuracy Metric, Loss Function, Optimization\n",
    "- Model Fit - Dataset, #Epochs "
   ]
  },
  {
   "cell_type": "markdown",
   "id": "c1c2f635",
   "metadata": {},
   "source": [
    "**Model Defintion** "
   ]
  },
  {
   "cell_type": "code",
   "execution_count": 90,
   "id": "30e9883c",
   "metadata": {},
   "outputs": [],
   "source": [
    "model = Sequential() # Empty model\n",
    "model.add(Input(shape=(784,))) # Input\n",
    "model.add(Dense(256, activation='relu')) #Hidden\n",
    "model.add(Dense(10, activation=\"softmax\")) #Output"
   ]
  },
  {
   "cell_type": "markdown",
   "id": "3c6ca62a",
   "metadata": {},
   "source": [
    "**Model Compilation** "
   ]
  },
  {
   "cell_type": "code",
   "execution_count": 91,
   "id": "3f784602",
   "metadata": {},
   "outputs": [],
   "source": [
    "model.compile(optimizer='rmsprop',\n",
    "              loss='categorical_crossentropy',\n",
    "              metrics = 'accuracy')"
   ]
  },
  {
   "cell_type": "markdown",
   "id": "670d8546",
   "metadata": {},
   "source": [
    "**Model Training/Fit** "
   ]
  },
  {
   "cell_type": "code",
   "execution_count": 92,
   "id": "316d051d",
   "metadata": {
    "scrolled": true
   },
   "outputs": [
    {
     "name": "stdout",
     "output_type": "stream",
     "text": [
      "Epoch 1/30\n",
      "60/60 [==============================] - 1s 18ms/step - loss: 17.7247 - accuracy: 0.7878 - val_loss: 2.9955 - val_accuracy: 0.9152\n",
      "Epoch 2/30\n",
      "60/60 [==============================] - 1s 17ms/step - loss: 2.5459 - accuracy: 0.9146 - val_loss: 1.7081 - val_accuracy: 0.9311\n",
      "Epoch 3/30\n",
      "60/60 [==============================] - 1s 19ms/step - loss: 1.2397 - accuracy: 0.9400 - val_loss: 0.9275 - val_accuracy: 0.9524\n",
      "Epoch 4/30\n",
      "60/60 [==============================] - 1s 16ms/step - loss: 0.6640 - accuracy: 0.9577 - val_loss: 0.8771 - val_accuracy: 0.9544\n",
      "Epoch 5/30\n",
      "60/60 [==============================] - 1s 12ms/step - loss: 0.4305 - accuracy: 0.9671 - val_loss: 1.0935 - val_accuracy: 0.9449\n",
      "Epoch 6/30\n",
      "60/60 [==============================] - 1s 10ms/step - loss: 0.3115 - accuracy: 0.9744 - val_loss: 0.8902 - val_accuracy: 0.9499\n",
      "Epoch 7/30\n",
      "60/60 [==============================] - 1s 12ms/step - loss: 0.2303 - accuracy: 0.9793 - val_loss: 0.7270 - val_accuracy: 0.9630\n",
      "Epoch 8/30\n",
      "60/60 [==============================] - 1s 11ms/step - loss: 0.1757 - accuracy: 0.9831 - val_loss: 0.7501 - val_accuracy: 0.9605\n",
      "Epoch 9/30\n",
      "60/60 [==============================] - 1s 11ms/step - loss: 0.1642 - accuracy: 0.9840 - val_loss: 0.6663 - val_accuracy: 0.9648\n",
      "Epoch 10/30\n",
      "60/60 [==============================] - 1s 12ms/step - loss: 0.1278 - accuracy: 0.9868 - val_loss: 0.7441 - val_accuracy: 0.9658\n",
      "Epoch 11/30\n",
      "60/60 [==============================] - 1s 10ms/step - loss: 0.1125 - accuracy: 0.9879 - val_loss: 0.6402 - val_accuracy: 0.9696\n",
      "Epoch 12/30\n",
      "60/60 [==============================] - 1s 10ms/step - loss: 0.1039 - accuracy: 0.9886 - val_loss: 0.6228 - val_accuracy: 0.9708\n",
      "Epoch 13/30\n",
      "60/60 [==============================] - 1s 10ms/step - loss: 0.0826 - accuracy: 0.9902 - val_loss: 0.6992 - val_accuracy: 0.9721\n",
      "Epoch 14/30\n",
      "60/60 [==============================] - 1s 11ms/step - loss: 0.0872 - accuracy: 0.9903 - val_loss: 0.6896 - val_accuracy: 0.9690\n",
      "Epoch 15/30\n",
      "60/60 [==============================] - 1s 10ms/step - loss: 0.0768 - accuracy: 0.9917 - val_loss: 0.8171 - val_accuracy: 0.9673\n",
      "Epoch 16/30\n",
      "60/60 [==============================] - 1s 11ms/step - loss: 0.0626 - accuracy: 0.9933 - val_loss: 0.7349 - val_accuracy: 0.9701\n",
      "Epoch 17/30\n",
      "60/60 [==============================] - 1s 13ms/step - loss: 0.0707 - accuracy: 0.9925 - val_loss: 0.7034 - val_accuracy: 0.9735\n",
      "Epoch 18/30\n",
      "60/60 [==============================] - 1s 16ms/step - loss: 0.0672 - accuracy: 0.9934 - val_loss: 0.7751 - val_accuracy: 0.9724\n",
      "Epoch 19/30\n",
      "60/60 [==============================] - 1s 12ms/step - loss: 0.0608 - accuracy: 0.9935 - val_loss: 0.7138 - val_accuracy: 0.9733\n",
      "Epoch 20/30\n",
      "60/60 [==============================] - 1s 13ms/step - loss: 0.0585 - accuracy: 0.9940 - val_loss: 0.7585 - val_accuracy: 0.9744\n",
      "Epoch 21/30\n",
      "60/60 [==============================] - 1s 12ms/step - loss: 0.0566 - accuracy: 0.9944 - val_loss: 0.8415 - val_accuracy: 0.9693\n",
      "Epoch 22/30\n",
      "60/60 [==============================] - 1s 11ms/step - loss: 0.0496 - accuracy: 0.9944 - val_loss: 0.8118 - val_accuracy: 0.9707\n",
      "Epoch 23/30\n",
      "60/60 [==============================] - 1s 11ms/step - loss: 0.0483 - accuracy: 0.9949 - val_loss: 0.8394 - val_accuracy: 0.9709\n",
      "Epoch 24/30\n",
      "60/60 [==============================] - 1s 10ms/step - loss: 0.0450 - accuracy: 0.9951 - val_loss: 0.7949 - val_accuracy: 0.9725\n",
      "Epoch 25/30\n",
      "60/60 [==============================] - 1s 11ms/step - loss: 0.0469 - accuracy: 0.9952 - val_loss: 0.8088 - val_accuracy: 0.9734\n",
      "Epoch 26/30\n",
      "60/60 [==============================] - 1s 10ms/step - loss: 0.0416 - accuracy: 0.9959 - val_loss: 0.8218 - val_accuracy: 0.9728\n",
      "Epoch 27/30\n",
      "60/60 [==============================] - 1s 10ms/step - loss: 0.0443 - accuracy: 0.9953 - val_loss: 0.8522 - val_accuracy: 0.9746\n",
      "Epoch 28/30\n",
      "60/60 [==============================] - 1s 11ms/step - loss: 0.0392 - accuracy: 0.9963 - val_loss: 0.8435 - val_accuracy: 0.9726\n",
      "Epoch 29/30\n",
      "60/60 [==============================] - 1s 11ms/step - loss: 0.0379 - accuracy: 0.9959 - val_loss: 0.7816 - val_accuracy: 0.9758\n",
      "Epoch 30/30\n",
      "60/60 [==============================] - 1s 10ms/step - loss: 0.0402 - accuracy: 0.9962 - val_loss: 0.7865 - val_accuracy: 0.9768\n"
     ]
    },
    {
     "data": {
      "text/plain": [
       "<tensorflow.python.keras.callbacks.History at 0x1a98395b490>"
      ]
     },
     "execution_count": 92,
     "metadata": {},
     "output_type": "execute_result"
    }
   ],
   "source": [
    "model.fit(x=x_train,\n",
    "          y=y_train_ohe,\n",
    "          epochs=30,\n",
    "          batch_size=1000,\n",
    "          validation_data=(x_test,y_test_ohe))"
   ]
  },
  {
   "cell_type": "code",
   "execution_count": 93,
   "id": "7b4bb15c",
   "metadata": {
    "scrolled": true
   },
   "outputs": [
    {
     "name": "stdout",
     "output_type": "stream",
     "text": [
      "Model: \"sequential_8\"\n",
      "_________________________________________________________________\n",
      "Layer (type)                 Output Shape              Param #   \n",
      "=================================================================\n",
      "dense_9 (Dense)              (None, 256)               200960    \n",
      "_________________________________________________________________\n",
      "dense_10 (Dense)             (None, 10)                2570      \n",
      "=================================================================\n",
      "Total params: 203,530\n",
      "Trainable params: 203,530\n",
      "Non-trainable params: 0\n",
      "_________________________________________________________________\n"
     ]
    }
   ],
   "source": [
    "model.summary()"
   ]
  },
  {
   "cell_type": "markdown",
   "id": "f4320278",
   "metadata": {},
   "source": [
    "#### Exploring Results"
   ]
  },
  {
   "cell_type": "code",
   "execution_count": 94,
   "id": "22545cd7",
   "metadata": {},
   "outputs": [],
   "source": [
    "train_loss = model.history.history['loss']\n",
    "val_loss = model.history.history['val_loss']\n",
    "train_accuracy = model.history.history['accuracy']\n",
    "validation_accuracy = model.history.history['val_accuracy']"
   ]
  },
  {
   "cell_type": "code",
   "execution_count": 95,
   "id": "d84ca718",
   "metadata": {},
   "outputs": [
    {
     "data": {
      "image/png": "[encoded data removed]",
      "text/plain": [
       "<Figure size 640x480 with 1 Axes>"
      ]
     },
     "metadata": {},
     "output_type": "display_data"
    }
   ],
   "source": [
    "plt.plot(train_loss, label='Train')\n",
    "plt.plot(val_loss,label='Validation')\n",
    "plt.xlabel(\"Epoch\")\n",
    "plt.ylabel(\"Loss\")\n",
    "plt.title(\"Loss Curves\")\n",
    "plt.legend()\n",
    "plt.grid()\n",
    "plt.show()"
   ]
  },
  {
   "cell_type": "code",
   "execution_count": 98,
   "id": "13e0a436",
   "metadata": {
    "scrolled": false
   },
   "outputs": [
    {
     "data": {
      "image/png": "[encoded data removed]",
      "text/plain": [
       "<Figure size 640x480 with 1 Axes>"
      ]
     },
     "metadata": {},
     "output_type": "display_data"
    }
   ],
   "source": [
    "plt.plot(train_accuracy, label='Train')\n",
    "plt.plot(validation_accuracy,label='Validation')\n",
    "# plt.ylim(0,1.1)\n",
    "plt.xlabel(\"Epoch\")\n",
    "plt.ylabel(\"Accuracy\")\n",
    "plt.title(\"Accuracy Curves\")\n",
    "plt.legend()\n",
    "plt.grid()\n",
    "plt.show()"
   ]
  },
  {
   "cell_type": "markdown",
   "id": "7c4592d0",
   "metadata": {},
   "source": [
    "#### Viewing Predictions"
   ]
  },
  {
   "cell_type": "code",
   "execution_count": 104,
   "id": "dbe69f3e",
   "metadata": {},
   "outputs": [
    {
     "data": {
      "text/plain": [
       "array([[0, 0, 0, ..., 0, 0, 0],\n",
       "       [0, 0, 0, ..., 0, 0, 0],\n",
       "       [0, 0, 0, ..., 0, 0, 0]], dtype=uint8)"
      ]
     },
     "execution_count": 104,
     "metadata": {},
     "output_type": "execute_result"
    }
   ],
   "source": [
    "x_test[:3]"
   ]
  },
  {
   "cell_type": "code",
   "execution_count": 114,
   "id": "565e873e",
   "metadata": {},
   "outputs": [
    {
     "data": {
      "text/plain": [
       "array([7, 2, 1, 0, 4, 1, 4, 9, 5, 9, 0, 6, 9, 0, 1, 5, 9, 7, 3, 4, 9, 6,\n",
       "       6, 5, 4, 0, 7, 4, 0, 1, 3, 1, 3, 4, 7, 2, 7, 1, 2, 1, 1, 7, 4, 2,\n",
       "       3, 5, 1, 2, 4, 4, 6, 3, 5, 5, 6, 0, 4, 1, 9, 5, 7, 8, 9, 3, 7, 4,\n",
       "       6, 4, 3, 0, 7, 0, 2, 9, 1, 7, 3, 2, 9, 7, 7, 6, 2, 7, 8, 4, 7, 3,\n",
       "       6, 1, 3, 6, 9, 3, 1, 4, 1, 7, 6, 9, 6], dtype=int64)"
      ]
     },
     "execution_count": 114,
     "metadata": {},
     "output_type": "execute_result"
    }
   ],
   "source": [
    "np.argmax(model.predict(x_test[:101]),axis=1)"
   ]
  },
  {
   "cell_type": "code",
   "execution_count": 115,
   "id": "56800474",
   "metadata": {},
   "outputs": [
    {
     "data": {
      "image/png": "[encoded data removed]",
      "text/plain": [
       "<Figure size 640x480 with 1 Axes>"
      ]
     },
     "metadata": {},
     "output_type": "display_data"
    }
   ],
   "source": [
    "plt.imshow(x_test[99].reshape(28,28),cmap='gray')\n",
    "plt.show()"
   ]
  }
 ],
 "metadata": {
  "kernelspec": {
   "display_name": "tf",
   "language": "python",
   "name": "tf"
  },
  "language_info": {
   "codemirror_mode": {
    "name": "ipython",
    "version": 3
   },
   "file_extension": ".py",
   "mimetype": "text/x-python",
   "name": "python",
   "nbconvert_exporter": "python",
   "pygments_lexer": "ipython3",
   "version": "3.8.8"
  }
 },
 "nbformat": 4,
 "nbformat_minor": 5
}
